{
 "cells": [
  {
   "cell_type": "code",
   "execution_count": 9,
   "metadata": {},
   "outputs": [
    {
     "name": "stdout",
     "output_type": "stream",
     "text": [
      "x is currently: 0\n",
      "x is currently less then 10, add 1 to x\n",
      "x is currently: 1\n",
      "x is currently less then 10, add 1 to x\n",
      "x is currently: 2\n",
      "x is currently less then 10, add 1 to x\n",
      "x is currently: 3\n",
      "x is currently less then 10, add 1 to x\n",
      "x is currently: 4\n",
      "x is currently less then 10, add 1 to x\n",
      "x is currently: 5\n",
      "x is currently less then 10, add 1 to x\n",
      "x is currently: 6\n",
      "x is currently less then 10, add 1 to x\n",
      "x is currently: 7\n",
      "x is currently less then 10, add 1 to x\n",
      "x is currently: 8\n",
      "x is currently less then 10, add 1 to x\n",
      "x is currently: 9\n",
      "x is currently less then 10, add 1 to x\n"
     ]
    }
   ],
   "source": [
    "x=0\n",
    "while x<10:\n",
    "    print('x is currently:', x)\n",
    "    print('x is currently less then 10, add 1 to x')\n",
    "    x+=1"
   ]
  },
  {
   "cell_type": "code",
   "execution_count": 15,
   "metadata": {},
   "outputs": [
    {
     "name": "stdout",
     "output_type": "stream",
     "text": [
      "x is currently: 0\n",
      "x is less then 10 , add 1 to x\n",
      "x is currently: 1\n",
      "x is less then 10 , add 1 to x\n",
      "x is currently: 2\n",
      "x is less then 10 , add 1 to x\n",
      "x is currently: 3\n",
      "x is less then 10 , add 1 to x\n",
      "x is currently: 4\n",
      "x is less then 10 , add 1 to x\n",
      "x is currently: 5\n",
      "x is less then 10 , add 1 to x\n",
      "x is currently: 6\n",
      "x is less then 10 , add 1 to x\n",
      "x is currently: 7\n",
      "x is less then 10 , add 1 to x\n",
      "x is currently: 8\n",
      "x is less then 10 , add 1 to x\n",
      "x is currently: 9\n",
      "x is less then 10 , add 1 to x\n",
      "all done\n"
     ]
    }
   ],
   "source": [
    "x=0\n",
    "while x<10:\n",
    "    print('x is currently:', x)\n",
    "    print('x is less then 10 , add 1 to x')\n",
    "    x+=1\n",
    "else:\n",
    "    print('all done')"
   ]
  },
  {
   "cell_type": "code",
   "execution_count": 19,
   "metadata": {},
   "outputs": [
    {
     "name": "stdout",
     "output_type": "stream",
     "text": [
      "x is currrently: 0\n",
      "x is still less then x so adding 1 to x\n",
      "continuing\n",
      "x is currrently: 1\n",
      "x is still less then x so adding 1 to x\n",
      "continuing\n",
      "x is currrently: 2\n",
      "x is still less then x so adding 1 to x\n",
      "x is 3\n",
      "x is currrently: 3\n",
      "x is still less then x so adding 1 to x\n",
      "continuing\n",
      "x is currrently: 4\n",
      "x is still less then x so adding 1 to x\n",
      "continuing\n",
      "x is currrently: 5\n",
      "x is still less then x so adding 1 to x\n",
      "continuing\n",
      "x is currrently: 6\n",
      "x is still less then x so adding 1 to x\n",
      "continuing\n",
      "x is currrently: 7\n",
      "x is still less then x so adding 1 to x\n",
      "continuing\n",
      "x is currrently: 8\n",
      "x is still less then x so adding 1 to x\n",
      "continuing\n",
      "x is currrently: 9\n",
      "x is still less then x so adding 1 to x\n",
      "continuing\n"
     ]
    }
   ],
   "source": [
    "x=0\n",
    "while x<10:\n",
    "    print('x is currrently:', x)\n",
    "    print('x is still less then x so adding 1 to x')\n",
    "    x+=1\n",
    "    if x==3:\n",
    "        print('x is 3')\n",
    "    else:\n",
    "        print('continuing')\n",
    "        continue"
   ]
  },
  {
   "cell_type": "code",
   "execution_count": 22,
   "metadata": {},
   "outputs": [
    {
     "name": "stdout",
     "output_type": "stream",
     "text": [
      "x is currently 0\n",
      "x is still less then x so add 1 to x\n",
      "continuing\n",
      "x is currently 1\n",
      "x is still less then x so add 1 to x\n",
      "continuing\n",
      "x is currently 2\n",
      "x is still less then x so add 1 to x\n",
      "breaking process since x==3\n"
     ]
    }
   ],
   "source": [
    "x=0\n",
    "while x<10:\n",
    "    print('x is currently', x)\n",
    "    print('x is still less then x so add 1 to x')\n",
    "    x+=1\n",
    "    if x==3:\n",
    "        print('breaking process since x==3')\n",
    "        break\n",
    "    else:\n",
    "        print('continuing')\n",
    "        continue\n"
   ]
  },
  {
   "cell_type": "code",
   "execution_count": 24,
   "metadata": {},
   "outputs": [
    {
     "data": {
      "text/plain": [
       "range(0, 45)"
      ]
     },
     "execution_count": 24,
     "metadata": {},
     "output_type": "execute_result"
    }
   ],
   "source": [
    "range(0,45)"
   ]
  },
  {
   "cell_type": "raw",
   "metadata": {},
   "source": []
  },
  {
   "cell_type": "code",
   "execution_count": 26,
   "metadata": {
    "collapsed": true
   },
   "outputs": [
    {
     "data": {
      "text/plain": [
       "[0, 5, 10, 15, 20, 25, 30, 35, 40]"
      ]
     },
     "execution_count": 26,
     "metadata": {},
     "output_type": "execute_result"
    }
   ],
   "source": [
    "list(range(0,45,5))"
   ]
  },
  {
   "cell_type": "code",
   "execution_count": 35,
   "metadata": {},
   "outputs": [
    {
     "ename": "SyntaxError",
     "evalue": "invalid syntax (<ipython-input-35-ddb1d55388a1>, line 1)",
     "output_type": "error",
     "traceback": [
      "\u001b[1;36m  File \u001b[1;32m\"<ipython-input-35-ddb1d55388a1>\"\u001b[1;36m, line \u001b[1;32m1\u001b[0m\n\u001b[1;33m    index count=0\u001b[0m\n\u001b[1;37m              ^\u001b[0m\n\u001b[1;31mSyntaxError\u001b[0m\u001b[1;31m:\u001b[0m invalid syntax\n"
     ]
    }
   ],
   "source": [
    "index count=0\n",
    "for letters in 'abcde':\n",
    "    print(\"index count {} fot letters {}\".format(index count,letters))\n",
    "    index count+=1"
   ]
  },
  {
   "cell_type": "code",
   "execution_count": null,
   "metadata": {},
   "outputs": [],
   "source": [
    "index_count = 0\n",
    "\n",
    "for letter in 'abcde':\n",
    "    print(\"At index {} the letter is {}\".format(index_count,letter))\n",
    "    index_count += 1"
   ]
  },
  {
   "cell_type": "code",
   "execution_count": null,
   "metadata": {},
   "outputs": [],
   "source": []
  }
 ],
 "metadata": {
  "kernelspec": {
   "display_name": "Python 3",
   "language": "python",
   "name": "python3"
  },
  "language_info": {
   "codemirror_mode": {
    "name": "ipython",
    "version": 3
   },
   "file_extension": ".py",
   "mimetype": "text/x-python",
   "name": "python",
   "nbconvert_exporter": "python",
   "pygments_lexer": "ipython3",
   "version": "3.7.0"
  }
 },
 "nbformat": 4,
 "nbformat_minor": 2
}
